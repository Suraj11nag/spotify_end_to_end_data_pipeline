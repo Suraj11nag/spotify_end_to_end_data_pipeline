{
 "cells": [
  {
   "cell_type": "code",
   "execution_count": 2,
   "metadata": {},
   "outputs": [
    {
     "name": "stdout",
     "output_type": "stream",
     "text": [
      "Collecting spotify\n",
      "  Downloading spotify-0.10.2-py3-none-any.whl (46 kB)\n",
      "\u001b[2K     \u001b[90m━━━━━━━━━━━━━━━━━━━━━━━━━━━━━━━━━━━━━━━\u001b[0m \u001b[32m46.4/46.4 kB\u001b[0m \u001b[31m720.4 kB/s\u001b[0m eta \u001b[36m0:00:00\u001b[0m \u001b[36m0:00:01\u001b[0m\n",
      "\u001b[?25hRequirement already satisfied: aiohttp<4.0,>=3.6 in /Users/surajnag/anaconda3/lib/python3.10/site-packages (from spotify) (3.8.4)\n",
      "Collecting backoff<2.0.0,>=1.10.0\n",
      "  Downloading backoff-1.11.1-py2.py3-none-any.whl (13 kB)\n",
      "Requirement already satisfied: multidict<7.0,>=4.5 in /Users/surajnag/anaconda3/lib/python3.10/site-packages (from aiohttp<4.0,>=3.6->spotify) (6.0.4)\n",
      "Requirement already satisfied: frozenlist>=1.1.1 in /Users/surajnag/anaconda3/lib/python3.10/site-packages (from aiohttp<4.0,>=3.6->spotify) (1.3.3)\n",
      "Requirement already satisfied: aiosignal>=1.1.2 in /Users/surajnag/anaconda3/lib/python3.10/site-packages (from aiohttp<4.0,>=3.6->spotify) (1.3.1)\n",
      "Requirement already satisfied: yarl<2.0,>=1.0 in /Users/surajnag/anaconda3/lib/python3.10/site-packages (from aiohttp<4.0,>=3.6->spotify) (1.9.2)\n",
      "Requirement already satisfied: async-timeout<5.0,>=4.0.0a3 in /Users/surajnag/anaconda3/lib/python3.10/site-packages (from aiohttp<4.0,>=3.6->spotify) (4.0.2)\n",
      "Requirement already satisfied: charset-normalizer<4.0,>=2.0 in /Users/surajnag/anaconda3/lib/python3.10/site-packages (from aiohttp<4.0,>=3.6->spotify) (2.0.4)\n",
      "Requirement already satisfied: attrs>=17.3.0 in /Users/surajnag/anaconda3/lib/python3.10/site-packages (from aiohttp<4.0,>=3.6->spotify) (23.2.0)\n",
      "Requirement already satisfied: idna>=2.0 in /Users/surajnag/anaconda3/lib/python3.10/site-packages (from yarl<2.0,>=1.0->aiohttp<4.0,>=3.6->spotify) (3.4)\n",
      "Installing collected packages: backoff, spotify\n",
      "  Attempting uninstall: backoff\n",
      "    Found existing installation: backoff 2.2.1\n",
      "    Uninstalling backoff-2.2.1:\n",
      "      Successfully uninstalled backoff-2.2.1\n",
      "Successfully installed backoff-1.11.1 spotify-0.10.2\n",
      "Note: you may need to restart the kernel to use updated packages.\n"
     ]
    }
   ],
   "source": [
    "pip install spotify"
   ]
  },
  {
   "cell_type": "code",
   "execution_count": null,
   "metadata": {},
   "outputs": [],
   "source": []
  }
 ],
 "metadata": {
  "kernelspec": {
   "display_name": "Python 3",
   "language": "python",
   "name": "python3"
  },
  "language_info": {
   "codemirror_mode": {
    "name": "ipython",
    "version": 3
   },
   "file_extension": ".py",
   "mimetype": "text/x-python",
   "name": "python",
   "nbconvert_exporter": "python",
   "pygments_lexer": "ipython3",
   "version": "3.10.9"
  }
 },
 "nbformat": 4,
 "nbformat_minor": 2
}
